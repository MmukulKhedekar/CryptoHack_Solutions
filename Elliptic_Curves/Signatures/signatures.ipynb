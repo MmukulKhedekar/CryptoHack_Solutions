{
 "cells": [
  {
   "cell_type": "code",
   "execution_count": 3,
   "metadata": {
    "vscode": {
     "languageId": "python"
    }
   },
   "outputs": [],
   "source": [
    "from Crypto.Util.number import *\n",
    "from Crypto.Random import random\n",
    "from Crypto.Cipher import AES\n",
    "from Crypto.Util.number import inverse\n",
    "from Crypto.Util.Padding import pad, unpad\n",
    "import hashlib\n",
    "import json\n",
    "import string"
   ]
  },
  {
   "cell_type": "code",
   "execution_count": 42,
   "id": "ce3c7a10",
   "metadata": {
    "vscode": {
     "languageId": "python"
    }
   },
   "outputs": [
    {
     "name": "stdout",
     "output_type": "stream",
     "text": [
      "Defaulting to user installation because normal site-packages is not writeable\n",
      "Requirement already satisfied: ecdsa in /home/fooker/.sage/local/lib/python3.10/site-packages (0.18.0)\n",
      "Requirement already satisfied: six>=1.9.0 in /usr/lib/python3/dist-packages (from ecdsa) (1.16.0)\n",
      "{'msg': '{\"admin\": false, \"username\": \"admin\"}', 'signature': '6b81ec338ee8682dac8b81e988df5ac769e337491e45c46e2a06c10f9d407a1480db8c3c1fb32dfc67454ed5ffe1ae9d'}\n",
      "{\"admin\": false, \"username\": \"admin\"}\n",
      "6b81ec338ee8682dac8b81e988df5ac769e337491e45c46e2a06c10f9d407a1480db8c3c1fb32dfc67454ed5ffe1ae9d\n",
      "{\"error\":\"Signature verification failed\"}\n",
      "\n"
     ]
    }
   ],
   "source": [
    "## Digestive\n",
    "!pip3 install ecdsa\n",
    "import hashlib\n",
    "import requests\n",
    "import json\n",
    "import string\n",
    "from ecdsa import SigningKey\n",
    "\n",
    "SK = SigningKey.generate() \n",
    "VK = SK.verifying_key\n",
    "url = \"https://web.cryptohack.org/digestive/verify/\"\n",
    "url_sign = \"https://web.cryptohack.org/digestive/sign/\"\n",
    "\n",
    "class HashFunc:\n",
    "    def __init__(self, data):\n",
    "        self.data = data\n",
    "\n",
    "    def digest(self):\n",
    "        # return hashlib.sha256(data).digest()\n",
    "        return self.data\n",
    "\n",
    "def sign(username):\n",
    "    sanitized_username = \"\".join(a for a in username if a in string.ascii_lowercase)\n",
    "    msg = json.dumps({\"admin\": False, \"username\": sanitized_username})\n",
    "    signature = SK.sign(\n",
    "        msg.encode(),\n",
    "        hashfunc=HashFunc,\n",
    "    )\n",
    "\n",
    "    return {\"msg\": msg, \"signature\": signature.hex()}\n",
    "\n",
    "signature = sign(\"admin\")   # 1st method \n",
    "signature = eval(requests.get(f\"{url_sign}admin/\").text)   # 2nd method \n",
    "\n",
    "print(signature)\n",
    "msg = signature[\"msg\"]\n",
    "sign = signature[\"signature\"]\n",
    "print(msg)\n",
    "print(sign)\n",
    "print(requests.get(f\"{url}/{msg}/{sign}/\").text)"
   ]
  }
 ],
 "metadata": {
  "kernelspec": {
   "display_name": "SageMath 9.5",
   "language": "sage",
   "name": "sagemath"
  },
  "language_info": {
   "codemirror_mode": {
    "name": "ipython",
    "version": 3
   },
   "file_extension": ".py",
   "mimetype": "text/x-python",
   "name": "sage",
   "nbconvert_exporter": "python",
   "pygments_lexer": "ipython3",
   "version": "3.10.12"
  }
 },
 "nbformat": 4,
 "nbformat_minor": 5
}
